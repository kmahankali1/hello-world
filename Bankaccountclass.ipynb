{
  "nbformat": 4,
  "nbformat_minor": 0,
  "metadata": {
    "colab": {
      "name": "Bankaccountclass.ipynb",
      "provenance": [],
      "authorship_tag": "ABX9TyPXZx7D+R5rsWV0Ex4ML20f",
      "include_colab_link": true
    },
    "kernelspec": {
      "name": "python3",
      "display_name": "Python 3"
    }
  },
  "cells": [
    {
      "cell_type": "markdown",
      "metadata": {
        "id": "view-in-github",
        "colab_type": "text"
      },
      "source": [
        "<a href=\"https://colab.research.google.com/github/kmahankali1/hello-world/blob/master/Bankaccountclass.ipynb\" target=\"_parent\"><img src=\"https://colab.research.google.com/assets/colab-badge.svg\" alt=\"Open In Colab\"/></a>"
      ]
    },
    {
      "cell_type": "code",
      "metadata": {
        "id": "p8i0urcG0SDi",
        "colab_type": "code",
        "colab": {}
      },
      "source": [
        "class account():\n",
        "  def __init__(self, owner, balance=0):\n",
        "    self.owner = owner\n",
        "    self.balance = balance\n",
        "    \n",
        "  def __str__(self):\n",
        "    return f\"Owner {self.owner}\\nBalance: {self.balance}\"\n",
        "    \n",
        "  def deposit(self, dep_amt):\n",
        "    self.balance = self.balance + dep_amt\n",
        "    print(f\"Added {dep_amt} to the balance\")\n",
        "  \n",
        "  def withdraw(self, wd_amt):\n",
        "    \n",
        "    if self.balance < wd_amt:\n",
        "      print(\"Your withdraw request is more than your balance. Please change it\")\n",
        "    else:\n",
        "      print(f\" Your with draw request of {wd_amt} is accepted\")\n",
        "      self.balance = self.balance - wd_amt\n",
        "      print(f\"Your new balance is {self.balance}\")\n",
        "    \n"
      ],
      "execution_count": 0,
      "outputs": []
    }
  ]
}