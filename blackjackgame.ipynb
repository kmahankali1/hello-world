{
  "nbformat": 4,
  "nbformat_minor": 0,
  "metadata": {
    "colab": {
      "name": "blackjackgame.ipynb",
      "provenance": [],
      "authorship_tag": "ABX9TyPZVelw+uAax6kx6NKsg3OD",
      "include_colab_link": true
    },
    "kernelspec": {
      "name": "python3",
      "display_name": "Python 3"
    }
  },
  "cells": [
    {
      "cell_type": "markdown",
      "metadata": {
        "id": "view-in-github",
        "colab_type": "text"
      },
      "source": [
        "<a href=\"https://colab.research.google.com/github/kmahankali1/hello-world/blob/master/blackjackgame.ipynb\" target=\"_parent\"><img src=\"https://colab.research.google.com/assets/colab-badge.svg\" alt=\"Open In Colab\"/></a>"
      ]
    },
    {
      "cell_type": "code",
      "metadata": {
        "id": "h2jwBQHUFrfH",
        "colab_type": "code",
        "colab": {}
      },
      "source": [
        "import random\n",
        "\n",
        "suits = ('Hearts', 'Diamonds', 'Spades', 'Clubs')\n",
        "ranks = ('Two', 'Three', 'Four', 'Five', 'Six', 'Seven', 'Eight', 'Nine', 'Ten', 'Jack', 'Queen', 'King', 'Ace')\n",
        "values = {'Two':2, 'Three':3, 'Four':4, 'Five':5, 'Six':6, 'Seven':7, 'Eight':8, 'Nine':9, 'Ten':10, 'Jack':10, 'Queen':10, 'King':10, 'Ace':11}\n",
        "\n",
        "playing = True\n",
        "\n",
        "#while playing:\n",
        "   \n",
        "\n",
        "class Card():\n",
        "   def __init__(self, suit, rank):\n",
        "      self.suit =suit\n",
        "      self.rank =rank\n",
        "   def __str__(self):\n",
        "      return self.rank+ \" of \"+self.suit\n",
        "\n",
        "\n",
        "class Deck:\n",
        "   def __init__(self):\n",
        "     self.dec = []\n",
        "     for suit in suits:\n",
        "        for rank in ranks:\n",
        "           self.deck.append(Card(suit,rank))\n",
        "   def shuffle(self):\n",
        "      random.shuffle(self.deck)\n",
        "   def deal(self):\n",
        "      single_card = self.deck.pop()\n",
        "      return single_card"
      ],
      "execution_count": 0,
      "outputs": []
    }
  ]
}