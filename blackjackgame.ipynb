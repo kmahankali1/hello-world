{
  "nbformat": 4,
  "nbformat_minor": 0,
  "metadata": {
    "colab": {
      "name": "blackjackgame.ipynb",
      "provenance": [],
      "authorship_tag": "ABX9TyNo6k30i2fFZNuOYnDAV0LU",
      "include_colab_link": true
    },
    "kernelspec": {
      "name": "python3",
      "display_name": "Python 3"
    }
  },
  "cells": [
    {
      "cell_type": "markdown",
      "metadata": {
        "id": "view-in-github",
        "colab_type": "text"
      },
      "source": [
        "<a href=\"https://colab.research.google.com/github/kmahankali1/hello-world/blob/master/blackjackgame.ipynb\" target=\"_parent\"><img src=\"https://colab.research.google.com/assets/colab-badge.svg\" alt=\"Open In Colab\"/></a>"
      ]
    },
    {
      "cell_type": "code",
      "metadata": {
        "id": "h2jwBQHUFrfH",
        "colab_type": "code",
        "colab": {}
      },
      "source": [
        "import random\n",
        "\n",
        "suits = ('Hearts', 'Diamonds', 'Spades', 'Clubs')\n",
        "ranks = ('Two', 'Three', 'Four', 'Five', 'Six', 'Seven', 'Eight', 'Nine', 'Ten', 'Jack', 'Queen', 'King', 'Ace')\n",
        "values = {'Two':2, 'Three':3, 'Four':4, 'Five':5, 'Six':6, 'Seven':7, 'Eight':8, 'Nine':9, 'Ten':10, 'Jack':10, 'Queen':10, 'King':10, 'Ace':11}\n",
        "#print (values('Two'))\n",
        "playing = True\n",
        "\n",
        "#while playing:\n",
        "   \n",
        "\n",
        "class Card():\n",
        "   def __init__(self, suit, rank):\n",
        "      self.suit =suit\n",
        "      self.rank =rank\n",
        "   def __str__(self):\n",
        "      return self.rank+ \" of \"+self.suit\n",
        "\n",
        "\n",
        "class Deck:\n",
        "   def __init__(self):\n",
        "     self.deck = []\n",
        "     for suit in suits:\n",
        "        for rank in ranks:\n",
        "           self.deck.append(Card(suit,rank))\n",
        "\n",
        "   def __str__(self):\n",
        "     deck_comp = ''\n",
        "     for card in self.deck:\n",
        "       deck_comp += '\\n' + card.__str__()\n",
        "     return \"the deck has:\" + deck_comp\n",
        "\n",
        "   def shuffle(self):\n",
        "      random.shuffle(self.deck)\n",
        "\n",
        "   def deal(self):\n",
        "      single_card = self.deck.pop()\n",
        "      return single_card"
      ],
      "execution_count": 0,
      "outputs": []
    },
    {
      "cell_type": "code",
      "metadata": {
        "id": "gwmij2N4NYoe",
        "colab_type": "code",
        "outputId": "948bfb92-d317-42f8-e2e0-4646ac4deeee",
        "colab": {
          "base_uri": "https://localhost:8080/",
          "height": 215
        }
      },
      "source": [
        "test_deck = Deck()\n",
        "\n",
        "print(test_deck.deal())\n",
        "#print (test_deck.values(rank))\n"
      ],
      "execution_count": 0,
      "outputs": [
        {
          "output_type": "stream",
          "text": [
            "Ace of Clubs\n"
          ],
          "name": "stdout"
        },
        {
          "output_type": "error",
          "ename": "AttributeError",
          "evalue": "ignored",
          "traceback": [
            "\u001b[0;31m---------------------------------------------------------------------------\u001b[0m",
            "\u001b[0;31mAttributeError\u001b[0m                            Traceback (most recent call last)",
            "\u001b[0;32m<ipython-input-29-74fae20c0187>\u001b[0m in \u001b[0;36m<module>\u001b[0;34m()\u001b[0m\n\u001b[1;32m      2\u001b[0m \u001b[0;34m\u001b[0m\u001b[0m\n\u001b[1;32m      3\u001b[0m \u001b[0mprint\u001b[0m\u001b[0;34m(\u001b[0m\u001b[0mtest_deck\u001b[0m\u001b[0;34m.\u001b[0m\u001b[0mdeal\u001b[0m\u001b[0;34m(\u001b[0m\u001b[0;34m)\u001b[0m\u001b[0;34m)\u001b[0m\u001b[0;34m\u001b[0m\u001b[0;34m\u001b[0m\u001b[0m\n\u001b[0;32m----> 4\u001b[0;31m \u001b[0mprint\u001b[0m \u001b[0;34m(\u001b[0m\u001b[0mtest_deck\u001b[0m\u001b[0;34m.\u001b[0m\u001b[0mvalues\u001b[0m\u001b[0;34m(\u001b[0m\u001b[0mrank\u001b[0m\u001b[0;34m)\u001b[0m\u001b[0;34m)\u001b[0m\u001b[0;34m\u001b[0m\u001b[0;34m\u001b[0m\u001b[0m\n\u001b[0m",
            "\u001b[0;31mAttributeError\u001b[0m: 'Deck' object has no attribute 'values'"
          ]
        }
      ]
    },
    {
      "cell_type": "code",
      "metadata": {
        "id": "aXbCtDLqdGoT",
        "colab_type": "code",
        "colab": {}
      },
      "source": [
        "print(test_deck)"
      ],
      "execution_count": 0,
      "outputs": []
    },
    {
      "cell_type": "code",
      "metadata": {
        "id": "vCQJ8gouc5Lu",
        "colab_type": "code",
        "colab": {}
      },
      "source": [
        "test_deck.shuffle()\n",
        "\n"
      ],
      "execution_count": 0,
      "outputs": []
    },
    {
      "cell_type": "code",
      "metadata": {
        "id": "vRdDxBdndTye",
        "colab_type": "code",
        "outputId": "b643d8fa-3680-4d95-bf7c-484828eeddb0",
        "colab": {
          "base_uri": "https://localhost:8080/",
          "height": 34
        }
      },
      "source": [
        "x = test_deck.deal()\n",
        "print (x)"
      ],
      "execution_count": 0,
      "outputs": [
        {
          "output_type": "stream",
          "text": [
            "Eight of Clubs\n"
          ],
          "name": "stdout"
        }
      ]
    },
    {
      "cell_type": "code",
      "metadata": {
        "id": "7Fo_460WwxjV",
        "colab_type": "code",
        "colab": {}
      },
      "source": [
        "class Hand:\n",
        "  def __init__(self):\n",
        "    self.cards = []\n",
        "    self.value = 0\n",
        "    self.aces = 0\n",
        "\n",
        "  def add_card(self,card):\n",
        "    self.cards.append(card)\n",
        "    self.value += values[card.rank]\n",
        "  \n",
        "    if card.rank == 'Ace':\n",
        "      self.aces += 1\n",
        "\n",
        "  def adjust_for_ace(self):\n",
        "     while self.value > 21 and self.aces:\n",
        "       self.value -= 10\n",
        "       self.aces -= 1"
      ],
      "execution_count": 0,
      "outputs": []
    },
    {
      "cell_type": "code",
      "metadata": {
        "id": "PFHEqVM5EjJu",
        "colab_type": "code",
        "outputId": "de562b03-e4d4-4239-e659-9081b2c8a6e6",
        "colab": {
          "base_uri": "https://localhost:8080/",
          "height": 51
        }
      },
      "source": [
        "test_deck = Deck()\n",
        "test_deck.shuffle()\n",
        "test_player = Hand()\n",
        "pulled_card = test_deck.deal()\n",
        "print(pulled_card)\n",
        "test_player.add_card(pulled_card)\n",
        "print(test_player.value)"
      ],
      "execution_count": 13,
      "outputs": [
        {
          "output_type": "stream",
          "text": [
            "Two of Clubs\n",
            "2\n"
          ],
          "name": "stdout"
        }
      ]
    },
    {
      "cell_type": "code",
      "metadata": {
        "id": "cxgHqz5BEjhB",
        "colab_type": "code",
        "colab": {}
      },
      "source": [
        "class Chips:\n",
        "\n",
        "  def __ini__(self, total = 100):\n",
        "    self.total = total\n",
        "    self.bet = 0\n",
        "  \n",
        "  def win_bet(self):\n",
        "    self.total += self.bet\n",
        "  \n",
        "  def lose_bet(self):\n",
        "    self.total -= self.bet"
      ],
      "execution_count": 0,
      "outputs": []
    },
    {
      "cell_type": "code",
      "metadata": {
        "id": "Wofoi4WpEj2F",
        "colab_type": "code",
        "colab": {}
      },
      "source": [
        "def take_bet(chips):\n",
        "  while True:\n",
        "    try:\n",
        "      chips.bet = int(input(\"How many chips would you like to bet?\"))\n",
        "\n",
        "    except:\n",
        "      print(\"sorry please provide an integer\")\n",
        "    else:\n",
        "      if chips.bet > chips.total:\n",
        "        print('sorry you do not have enough chips! You have {}'.format(chips.total))\n",
        "      else:\n",
        "        break\n"
      ],
      "execution_count": 0,
      "outputs": []
    },
    {
      "cell_type": "code",
      "metadata": {
        "id": "coy4ulbLHP6x",
        "colab_type": "code",
        "colab": {}
      },
      "source": [
        "def hit(deck,hand):\n",
        "  single_card = deck.deal()\n",
        "  hand.add_card(single_card)\n",
        "  hand.adjust_for_ace()\n",
        "  "
      ],
      "execution_count": 0,
      "outputs": []
    },
    {
      "cell_type": "code",
      "metadata": {
        "id": "O-ntqyTjvX-i",
        "colab_type": "code",
        "colab": {}
      },
      "source": [
        "def hit_or_stand(deck, hand):\n",
        "  global playing\n",
        "\n",
        "  while True:\n",
        "    x = input('Hit or Stand? Enter h or s')\n",
        "\n",
        "    if x[0].lower() == 'h':\n",
        "      hit(deck,hand)\n",
        "\n",
        "    elif x[0].lower() =='s':\n",
        "      print('Player stands Dealers Turn')\n",
        "      playing = False\n",
        "    \n",
        "    else:\n",
        "      print(\"Soffry, I did not understand\")\n",
        "      continue\n",
        "      "
      ],
      "execution_count": 0,
      "outputs": []
    },
    {
      "cell_type": "code",
      "metadata": {
        "id": "OeCF2rVov9y2",
        "colab_type": "code",
        "colab": {}
      },
      "source": [
        "def player_busts(player, dealer, chips):\n",
        "  print(\"Bust Player!\")\n",
        "  chips.lose_bet()\n",
        "\n",
        "def player_wins(player, dealer, chips):\n",
        "  print(\"Player wins!\")\n",
        "  chips.win_bet()\n",
        "\n",
        "\n",
        "def dealer_bust(player, dealer, chips):\n",
        "  print(\"Player wins!Dealer Busted\")\n",
        "  chips.win_bet()\n",
        "  \n",
        "\n",
        "def dealer_wins(player, dealer, chips):\n",
        "  print(\"Dealer wins!\")\n",
        "  chips.lose_bet()\n",
        "\n",
        "\n",
        "def push(player, dealer):\n",
        "  print(\"Dealer and player tie! Push!\")\n",
        "  \n",
        "  "
      ],
      "execution_count": 0,
      "outputs": []
    },
    {
      "cell_type": "code",
      "metadata": {
        "id": "fn6rpnDKHQcd",
        "colab_type": "code",
        "colab": {
          "base_uri": "https://localhost:8080/",
          "height": 385
        },
        "outputId": "e1e7c267-d795-49d5-d4c0-90a60b89366e"
      },
      "source": [
        "while True:\n",
        "\n",
        "  print (\"Welcome to BlackJack\")\n",
        "\n",
        "  deck = Deck()\n",
        "  deck.shuffle()\n",
        "\n",
        "  player_hand = Hand()\n",
        "  player_hand.add_card(deck.deal())\n",
        "  player_hand.add_card(deck.deal())\n",
        "\n",
        "  \n",
        "  dealer_hand = Hand()\n",
        "  dealer_hand.add_card(deck.deal())\n",
        "  dealer_hand.add_card(deck.deal())\n",
        "\n",
        "  player_chips = Chips()\n",
        "\n",
        "  take_bet(player_chips)\n",
        "\n",
        "  show_some(player_hand, dealer_hand)\n",
        "\n",
        "  while playing:\n",
        "\n",
        "    hit_or_stand(deck, player_hand)\n",
        "\n",
        "    show_some(player_hand, dealer_hand)\n",
        "\n",
        "    if player_hand.value > 21:\n",
        "      player_busts(player_hand, dealer_hand, player_chips)\n",
        "      break\n",
        "  \n",
        "    if player_hand.value <= 21:\n",
        "      while dealer_hand.value < 17:\n",
        "        hit(deck, dealer_hand)\n",
        "      show_all(player_hand, dealer_hand)\n",
        "\n",
        "      if dealer_hand.value > 21:\n",
        "        dealer_busts(player_hand, dealer_hand,player_chips)\n",
        "      elif dealer_hand.value > player_hand.value:\n",
        "        dealer_wins(player_hand, dealer_hand, player_chips)\n",
        "      elif dealer_hand.value < player_hand.value:\n",
        "        player_wins(player_hand, dealer_hand, player_chips)\n",
        "      else:\n",
        "        push(player_hand, dealer_hand)\n",
        "\n",
        "      print('\\n Player total chips are at:{}'.format(player_chips.total))\n",
        "\n",
        "      new_game = input(\"Would you like to play another hand? y/n\")\n",
        "\n",
        "      if new_game[0].lower() == 'y':\n",
        "        playing = True\n",
        "        continue\n",
        "      else:\n",
        "        print(\"Thank you for playing\")\n",
        "        break\n",
        "\n",
        "\n",
        "\n"
      ],
      "execution_count": 20,
      "outputs": [
        {
          "output_type": "stream",
          "text": [
            "Welcome to BlackJack\n",
            "How many chips would you like to bet?30\n"
          ],
          "name": "stdout"
        },
        {
          "output_type": "error",
          "ename": "AttributeError",
          "evalue": "ignored",
          "traceback": [
            "\u001b[0;31m---------------------------------------------------------------------------\u001b[0m",
            "\u001b[0;31mAttributeError\u001b[0m                            Traceback (most recent call last)",
            "\u001b[0;32m<ipython-input-20-f4a424da8d5b>\u001b[0m in \u001b[0;36m<module>\u001b[0;34m()\u001b[0m\n\u001b[1;32m     17\u001b[0m   \u001b[0mplayer_chips\u001b[0m \u001b[0;34m=\u001b[0m \u001b[0mChips\u001b[0m\u001b[0;34m(\u001b[0m\u001b[0;34m)\u001b[0m\u001b[0;34m\u001b[0m\u001b[0;34m\u001b[0m\u001b[0m\n\u001b[1;32m     18\u001b[0m \u001b[0;34m\u001b[0m\u001b[0m\n\u001b[0;32m---> 19\u001b[0;31m   \u001b[0mtake_bet\u001b[0m\u001b[0;34m(\u001b[0m\u001b[0mplayer_chips\u001b[0m\u001b[0;34m)\u001b[0m\u001b[0;34m\u001b[0m\u001b[0;34m\u001b[0m\u001b[0m\n\u001b[0m\u001b[1;32m     20\u001b[0m \u001b[0;34m\u001b[0m\u001b[0m\n\u001b[1;32m     21\u001b[0m   \u001b[0mshow_some\u001b[0m\u001b[0;34m(\u001b[0m\u001b[0mplayer_hand\u001b[0m\u001b[0;34m,\u001b[0m \u001b[0mdealer_hand\u001b[0m\u001b[0;34m)\u001b[0m\u001b[0;34m\u001b[0m\u001b[0;34m\u001b[0m\u001b[0m\n",
            "\u001b[0;32m<ipython-input-15-d75de051e68a>\u001b[0m in \u001b[0;36mtake_bet\u001b[0;34m(chips)\u001b[0m\n\u001b[1;32m      7\u001b[0m       \u001b[0mprint\u001b[0m\u001b[0;34m(\u001b[0m\u001b[0;34m\"sorry please provide an integer\"\u001b[0m\u001b[0;34m)\u001b[0m\u001b[0;34m\u001b[0m\u001b[0;34m\u001b[0m\u001b[0m\n\u001b[1;32m      8\u001b[0m     \u001b[0;32melse\u001b[0m\u001b[0;34m:\u001b[0m\u001b[0;34m\u001b[0m\u001b[0;34m\u001b[0m\u001b[0m\n\u001b[0;32m----> 9\u001b[0;31m       \u001b[0;32mif\u001b[0m \u001b[0mchips\u001b[0m\u001b[0;34m.\u001b[0m\u001b[0mbet\u001b[0m \u001b[0;34m>\u001b[0m \u001b[0mchips\u001b[0m\u001b[0;34m.\u001b[0m\u001b[0mtotal\u001b[0m\u001b[0;34m:\u001b[0m\u001b[0;34m\u001b[0m\u001b[0;34m\u001b[0m\u001b[0m\n\u001b[0m\u001b[1;32m     10\u001b[0m         \u001b[0mprint\u001b[0m\u001b[0;34m(\u001b[0m\u001b[0;34m'sorry you do not have enough chips! You have {}'\u001b[0m\u001b[0;34m.\u001b[0m\u001b[0mformat\u001b[0m\u001b[0;34m(\u001b[0m\u001b[0mchips\u001b[0m\u001b[0;34m.\u001b[0m\u001b[0mtotal\u001b[0m\u001b[0;34m)\u001b[0m\u001b[0;34m)\u001b[0m\u001b[0;34m\u001b[0m\u001b[0;34m\u001b[0m\u001b[0m\n\u001b[1;32m     11\u001b[0m       \u001b[0;32melse\u001b[0m\u001b[0;34m:\u001b[0m\u001b[0;34m\u001b[0m\u001b[0;34m\u001b[0m\u001b[0m\n",
            "\u001b[0;31mAttributeError\u001b[0m: 'Chips' object has no attribute 'total'"
          ]
        }
      ]
    },
    {
      "cell_type": "code",
      "metadata": {
        "id": "g9LwHj1INW4c",
        "colab_type": "code",
        "colab": {}
      },
      "source": [
        ""
      ],
      "execution_count": 0,
      "outputs": []
    }
  ]
}