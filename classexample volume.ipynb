{
  "nbformat": 4,
  "nbformat_minor": 0,
  "metadata": {
    "colab": {
      "name": "Copy of Untitled0.ipynb",
      "provenance": [],
      "authorship_tag": "ABX9TyMLp3ELFow3AaMYxn1GwgTD",
      "include_colab_link": true
    },
    "kernelspec": {
      "name": "python3",
      "display_name": "Python 3"
    }
  },
  "cells": [
    {
      "cell_type": "markdown",
      "metadata": {
        "id": "view-in-github",
        "colab_type": "text"
      },
      "source": [
        "<a href=\"https://colab.research.google.com/github/kmahankali1/hello-world/blob/master/classexample%20volume.ipynb\" target=\"_parent\"><img src=\"https://colab.research.google.com/assets/colab-badge.svg\" alt=\"Open In Colab\"/></a>"
      ]
    },
    {
      "cell_type": "code",
      "metadata": {
        "id": "rOLewzJM_pV2",
        "colab_type": "code",
        "outputId": "5a6e5bdd-8baf-4556-a9c2-7e5b25762ce2",
        "colab": {
          "base_uri": "https://localhost:8080/",
          "height": 34
        }
      },
      "source": [
        "4^2"
      ],
      "execution_count": 0,
      "outputs": [
        {
          "output_type": "execute_result",
          "data": {
            "text/plain": [
              "6"
            ]
          },
          "metadata": {
            "tags": []
          },
          "execution_count": 10
        }
      ]
    },
    {
      "cell_type": "code",
      "metadata": {
        "id": "-CU9ll1KCYhL",
        "colab_type": "code",
        "outputId": "56807e11-2968-43ca-db15-b048b426888b",
        "colab": {
          "base_uri": "https://localhost:8080/",
          "height": 34
        }
      },
      "source": [
        "d['k1']\n"
      ],
      "execution_count": 0,
      "outputs": [
        {
          "output_type": "execute_result",
          "data": {
            "text/plain": [
              "'abc'"
            ]
          },
          "metadata": {
            "tags": []
          },
          "execution_count": 4
        }
      ]
    },
    {
      "cell_type": "code",
      "metadata": {
        "id": "Q-A-ELRigv9G",
        "colab_type": "code",
        "outputId": "20dfef57-b707-463b-d522-6d4f39825243",
        "colab": {
          "base_uri": "https://localhost:8080/",
          "height": 34
        }
      },
      "source": [
        "s = 'hello'\n",
        "s[1]\n",
        "s[::-1]"
      ],
      "execution_count": 0,
      "outputs": [
        {
          "output_type": "execute_result",
          "data": {
            "text/plain": [
              "'olleh'"
            ]
          },
          "metadata": {
            "tags": []
          },
          "execution_count": 15
        }
      ]
    },
    {
      "cell_type": "code",
      "metadata": {
        "id": "i3sWlSNnidnm",
        "colab_type": "code",
        "outputId": "de3df93d-7ba7-4c2b-b98f-65d6c247e358",
        "colab": {
          "base_uri": "https://localhost:8080/",
          "height": 34
        }
      },
      "source": [
        "\n",
        "s[-1]"
      ],
      "execution_count": 0,
      "outputs": [
        {
          "output_type": "execute_result",
          "data": {
            "text/plain": [
              "'o'"
            ]
          },
          "metadata": {
            "tags": []
          },
          "execution_count": 17
        }
      ]
    },
    {
      "cell_type": "code",
      "metadata": {
        "id": "ZuE9KEz7in7b",
        "colab_type": "code",
        "outputId": "89deb16a-6202-4fff-c3fe-2585b0a2c6ea",
        "colab": {
          "base_uri": "https://localhost:8080/",
          "height": 34
        }
      },
      "source": [
        "s[4]"
      ],
      "execution_count": 0,
      "outputs": [
        {
          "output_type": "execute_result",
          "data": {
            "text/plain": [
              "'o'"
            ]
          },
          "metadata": {
            "tags": []
          },
          "execution_count": 18
        }
      ]
    },
    {
      "cell_type": "code",
      "metadata": {
        "id": "okt82DnlizY1",
        "colab_type": "code",
        "outputId": "48595b00-dec0-41a4-d431-6d5a68a30d2a",
        "colab": {
          "base_uri": "https://localhost:8080/",
          "height": 34
        }
      },
      "source": [
        "[0,0,0]\n"
      ],
      "execution_count": 0,
      "outputs": [
        {
          "output_type": "execute_result",
          "data": {
            "text/plain": [
              "[0, 0, 0]"
            ]
          },
          "metadata": {
            "tags": []
          },
          "execution_count": 19
        }
      ]
    },
    {
      "cell_type": "code",
      "metadata": {
        "id": "aKlXhezRjFhS",
        "colab_type": "code",
        "outputId": "47b21cb7-ca5a-4aab-fd9a-e6c571e45cf4",
        "colab": {
          "base_uri": "https://localhost:8080/",
          "height": 34
        }
      },
      "source": [
        "list3 = [1,2,[3,4,'hello']]\n",
        "list3[2][2]='goodbye'\n",
        "list3"
      ],
      "execution_count": 0,
      "outputs": [
        {
          "output_type": "execute_result",
          "data": {
            "text/plain": [
              "[1, 2, [3, 4, 'goodbye']]"
            ]
          },
          "metadata": {
            "tags": []
          },
          "execution_count": 23
        }
      ]
    },
    {
      "cell_type": "code",
      "metadata": {
        "id": "AEXqXA5qjrIR",
        "colab_type": "code",
        "outputId": "059a25f4-58da-4ef2-af7f-01688c62a6fe",
        "colab": {
          "base_uri": "https://localhost:8080/",
          "height": 34
        }
      },
      "source": [
        "\n",
        "list4 = [5,3,4,6,1]\n",
        "list4.sort()\n",
        "list4"
      ],
      "execution_count": 0,
      "outputs": [
        {
          "output_type": "execute_result",
          "data": {
            "text/plain": [
              "[1, 3, 4, 5, 6]"
            ]
          },
          "metadata": {
            "tags": []
          },
          "execution_count": 26
        }
      ]
    },
    {
      "cell_type": "code",
      "metadata": {
        "id": "HAFRNLyyj0i2",
        "colab_type": "code",
        "outputId": "1defcc16-5126-49fe-dd7a-21c95fefb7bf",
        "colab": {
          "base_uri": "https://localhost:8080/",
          "height": 34
        }
      },
      "source": [
        "d = {'simple_key':'hello'}\n",
        "# Grab 'hello'\n",
        "d['simple_key']"
      ],
      "execution_count": 0,
      "outputs": [
        {
          "output_type": "execute_result",
          "data": {
            "text/plain": [
              "'hello'"
            ]
          },
          "metadata": {
            "tags": []
          },
          "execution_count": 27
        }
      ]
    },
    {
      "cell_type": "code",
      "metadata": {
        "id": "7Xdq8HJVkDr6",
        "colab_type": "code",
        "outputId": "d77c2618-8a25-46c6-ac3a-1e98ab4c5c90",
        "colab": {
          "base_uri": "https://localhost:8080/",
          "height": 34
        }
      },
      "source": [
        "d = {'k1':{'k2':'hello'}}\n",
        "# Grab 'hello'\n",
        "d['k1']['k2']"
      ],
      "execution_count": 0,
      "outputs": [
        {
          "output_type": "execute_result",
          "data": {
            "text/plain": [
              "'hello'"
            ]
          },
          "metadata": {
            "tags": []
          },
          "execution_count": 29
        }
      ]
    },
    {
      "cell_type": "code",
      "metadata": {
        "id": "yGBUFRyRkVNm",
        "colab_type": "code",
        "outputId": "2b61f9e0-f80f-496c-c97b-7c025eb64682",
        "colab": {
          "base_uri": "https://localhost:8080/",
          "height": 34
        }
      },
      "source": [
        "# Getting a little tricker\n",
        "d = {'k1':[{'nest_key':['this is deep',['hello']]}]}\n",
        "\n",
        "#Grab hello\n",
        "d['k1'][0]['nest_key'][1]"
      ],
      "execution_count": 0,
      "outputs": [
        {
          "output_type": "execute_result",
          "data": {
            "text/plain": [
              "['hello']"
            ]
          },
          "metadata": {
            "tags": []
          },
          "execution_count": 30
        }
      ]
    },
    {
      "cell_type": "code",
      "metadata": {
        "id": "h3t4h-fnlRWf",
        "colab_type": "code",
        "outputId": "36c640a8-f307-4c1a-928d-bc04cf2921f2",
        "colab": {
          "base_uri": "https://localhost:8080/",
          "height": 34
        }
      },
      "source": [
        "# This will be hard and annoying!\n",
        "d = {'k1':[1,2,{'k2':['this is tricky',{'tough':[1,2,['hello']]}]}]}\n",
        "d['k1'][2]['k2'][1]['tough'][2]"
      ],
      "execution_count": 0,
      "outputs": [
        {
          "output_type": "execute_result",
          "data": {
            "text/plain": [
              "['hello']"
            ]
          },
          "metadata": {
            "tags": []
          },
          "execution_count": 31
        }
      ]
    },
    {
      "cell_type": "code",
      "metadata": {
        "id": "cq4iddmDl1YA",
        "colab_type": "code",
        "outputId": "111bbc41-9394-4c30-fe37-af2a365d49a2",
        "colab": {
          "base_uri": "https://localhost:8080/",
          "height": 34
        }
      },
      "source": [
        "list5 = [1,2,2,33,4,4,11,22,3,3,2]\n",
        "set(list5)"
      ],
      "execution_count": 0,
      "outputs": [
        {
          "output_type": "execute_result",
          "data": {
            "text/plain": [
              "{1, 2, 3, 4, 11, 22, 33}"
            ]
          },
          "metadata": {
            "tags": []
          },
          "execution_count": 32
        }
      ]
    },
    {
      "cell_type": "code",
      "metadata": {
        "id": "BmeKTp0ImGWX",
        "colab_type": "code",
        "outputId": "c4a23bd8-4ee4-4411-f37f-23d2d29ba4c5",
        "colab": {
          "base_uri": "https://localhost:8080/",
          "height": 34
        }
      },
      "source": [
        "3 == 2.0"
      ],
      "execution_count": 0,
      "outputs": [
        {
          "output_type": "execute_result",
          "data": {
            "text/plain": [
              "False"
            ]
          },
          "metadata": {
            "tags": []
          },
          "execution_count": 33
        }
      ]
    },
    {
      "cell_type": "code",
      "metadata": {
        "id": "xakC_sZEmJvY",
        "colab_type": "code",
        "outputId": "5aaf890f-13c7-45b7-8e61-1fec002b578e",
        "colab": {
          "base_uri": "https://localhost:8080/",
          "height": 34
        }
      },
      "source": [
        "3.0==3"
      ],
      "execution_count": 0,
      "outputs": [
        {
          "output_type": "execute_result",
          "data": {
            "text/plain": [
              "True"
            ]
          },
          "metadata": {
            "tags": []
          },
          "execution_count": 34
        }
      ]
    },
    {
      "cell_type": "code",
      "metadata": {
        "id": "0s8aA16rmTt9",
        "colab_type": "code",
        "outputId": "d23fffd3-1e22-4ef7-ef35-0bf2ade701ce",
        "colab": {
          "base_uri": "https://localhost:8080/",
          "height": 34
        }
      },
      "source": [
        "4**.5!=2"
      ],
      "execution_count": 0,
      "outputs": [
        {
          "output_type": "execute_result",
          "data": {
            "text/plain": [
              "False"
            ]
          },
          "metadata": {
            "tags": []
          },
          "execution_count": 35
        }
      ]
    },
    {
      "cell_type": "code",
      "metadata": {
        "id": "W9GPvSJ1mjqc",
        "colab_type": "code",
        "outputId": "b7225951-df5a-402f-ace6-4b84c549fe11",
        "colab": {
          "base_uri": "https://localhost:8080/",
          "height": 50
        }
      },
      "source": [
        "\n",
        "# two nested lists\n",
        "l_one = [1,2,[3,4]]\n",
        "l_two = [1,2,{'k1':4}]\n",
        "print (l_one[2][0])\n",
        "print (l_two[2]['k1'])\n"
      ],
      "execution_count": 1,
      "outputs": [
        {
          "output_type": "stream",
          "text": [
            "3\n",
            "4\n"
          ],
          "name": "stdout"
        }
      ]
    },
    {
      "cell_type": "code",
      "metadata": {
        "id": "fwjq-pgfe6RK",
        "colab_type": "code",
        "colab": {}
      },
      "source": [
        "class Animal():\n",
        "  def __init__(self):\n",
        "    print('animal created')\n",
        "  def whoami(self):\n",
        "    print('i am an animal')\n",
        "  def eat(self):\n",
        "    print('i am eating')\n"
      ],
      "execution_count": 0,
      "outputs": []
    },
    {
      "cell_type": "code",
      "metadata": {
        "id": "-ryG54AlfEnn",
        "colab_type": "code",
        "colab": {
          "base_uri": "https://localhost:8080/",
          "height": 67
        },
        "outputId": "1fc999bd-fac6-4b60-dc07-c43b4a4c3376"
      },
      "source": [
        "new_animal = Animal()\n",
        "new_animal.whoami()\n",
        "new_animal.eat()Kumar, Sanjeev <Sanjeev.Kumar@tesco.com>; payplus-support <payplus-support@tesco.com>; Payplus-developers-IN <Payplus-developers-IN@tesco.com>; HSC_Tesco Bank-Testing-Digital <HSC_TescoBank-Testing-Digital@tesco.com>"
      ],
      "execution_count": 6,
      "outputs": [
        {
          "output_type": "stream",
          "text": [
            "animal created\n",
            "i am an animal\n",
            "i am eating\n"
          ],
          "name": "stdout"
        }
      ]
    },
    {
      "cell_type": "code",
      "metadata": {
        "id": "QYNIxUPVuyth",
        "colab_type": "code",
        "colab": {
          "base_uri": "https://localhost:8080/",
          "height": 67
        },
        "outputId": "184babf5-c8d1-481d-d61f-4cb5e87e2cb4"
      },
      "source": [
        "class A():\n",
        "  \n",
        "  def __init__(self, xyz):\n",
        "    self.xyz = 'abc'\n",
        "    print('I am A')\n",
        "    print(xyz)\n",
        "\n",
        "class B(A):\n",
        "      print(' I am B')\n",
        "\n",
        "new_ins = A('abc')\n"
      ],
      "execution_count": 6,
      "outputs": [
        {
          "output_type": "stream",
          "text": [
            " I am B\n",
            "I am A\n",
            "abc\n"
          ],
          "name": "stdout"
        }
      ]
    },
    {
      "cell_type": "code",
      "metadata": {
        "id": "ZZCgZlMqu3JA",
        "colab_type": "code",
        "colab": {
          "base_uri": "https://localhost:8080/",
          "height": 50
        },
        "outputId": "eb7dcfeb-6649-41a3-f72d-411717841d39"
      },
      "source": [
        "import math\n",
        "class PyCharm:\n",
        "  def execute(self):\n",
        "    print(\"compiling\")\n",
        "    print(\"Running\")\n",
        "\n",
        "  \n",
        "\n",
        "class Laptop:\n",
        "  def code(self, ide):\n",
        "    ide.execute()\n",
        "\n",
        "ide = PyCharm()\n",
        "lap1 = Laptop()\n",
        "lap1.code(ide)"
      ],
      "execution_count": 6,
      "outputs": [
        {
          "output_type": "stream",
          "text": [
            "compiling\n",
            "Running\n"
          ],
          "name": "stdout"
        }
      ]
    },
    {
      "cell_type": "code",
      "metadata": {
        "id": "DMtxpNCVlfXm",
        "colab_type": "code",
        "colab": {
          "base_uri": "https://localhost:8080/",
          "height": 34
        },
        "outputId": "9bfceeea-6422-4182-8e41-d822a4c3360f"
      },
      "source": [
        "import math\n",
        "ls = math.sqrt(16)\n",
        "print (ls)"
      ],
      "execution_count": 18,
      "outputs": [
        {
          "output_type": "stream",
          "text": [
            "4.0\n"
          ],
          "name": "stdout"
        }
      ]
    },
    {
      "cell_type": "code",
      "metadata": {
        "id": "7ma8pWxih0xT",
        "colab_type": "code",
        "colab": {}
      },
      "source": [
        "\n",
        "class Line:\n",
        "    import math    \n",
        "    def __init__(self,coor1,coor2):\n",
        "        self.coor1 = coor1\n",
        "        self.coor2 = coor2\n",
        "    \n",
        "    def distance(self):\n",
        "        dist = ((self.coor2[0]-self.coor1[0])**2) + ((self.coor2[1]-self.coor1[1])**2)\n",
        "        print(dist)\n",
        "        s = math.sqrt(dist)\n",
        "        return(s)\n",
        "    def slope(self):\n",
        "        sl = (self.coor2[1]-self.coor1[1])/(self.coor2[0]-self.coor1[0])\n",
        "        return(sl)"
      ],
      "execution_count": 0,
      "outputs": []
    },
    {
      "cell_type": "code",
      "metadata": {
        "id": "OcelaKpIh2wg",
        "colab_type": "code",
        "colab": {}
      },
      "source": [
        "coordinate1 = (3,2)\n",
        "coordinate2 = (8,10)\n",
        "\n",
        "li = Line(coordinate1,coordinate2)"
      ],
      "execution_count": 0,
      "outputs": []
    },
    {
      "cell_type": "code",
      "metadata": {
        "id": "-AAV8xSth-IV",
        "colab_type": "code",
        "colab": {
          "base_uri": "https://localhost:8080/",
          "height": 50
        },
        "outputId": "8218099e-0632-4a9a-9093-132cb7c9e3ca"
      },
      "source": [
        "li.distance()"
      ],
      "execution_count": 51,
      "outputs": [
        {
          "output_type": "stream",
          "text": [
            "89\n"
          ],
          "name": "stdout"
        },
        {
          "output_type": "execute_result",
          "data": {
            "text/plain": [
              "9.433981132056603"
            ]
          },
          "metadata": {
            "tags": []
          },
          "execution_count": 51
        }
      ]
    },
    {
      "cell_type": "code",
      "metadata": {
        "id": "SPMvmBg8iA3y",
        "colab_type": "code",
        "colab": {
          "base_uri": "https://localhost:8080/",
          "height": 34
        },
        "outputId": "7795685d-0744-4888-9c32-3e97a220a73f"
      },
      "source": [
        "li.slope()"
      ],
      "execution_count": 44,
      "outputs": [
        {
          "output_type": "execute_result",
          "data": {
            "text/plain": [
              "1.6"
            ]
          },
          "metadata": {
            "tags": []
          },
          "execution_count": 44
        }
      ]
    },
    {
      "cell_type": "code",
      "metadata": {
        "id": "iVzKAnjCatfa",
        "colab_type": "code",
        "colab": {}
      },
      "source": [
        "class cylinder():\n",
        "  pi = 3.14\n",
        "  def __init__(self, height, radius):\n",
        "     self.h = height\n",
        "     self.r = radius\n",
        "  \n",
        "  def volume(self):\n",
        "    return(self.pi*(self.r**2)*self.h)\n",
        "\n",
        "  def surface_area(self):\n",
        "    return((2*self.pi*self.r*self.h) + (2*self.pi*(self.r**2)))\n"
      ],
      "execution_count": 0,
      "outputs": []
    },
    {
      "cell_type": "code",
      "metadata": {
        "id": "b6TLegPqcBVM",
        "colab_type": "code",
        "colab": {}
      },
      "source": [
        "\n",
        "c = cylinder(2,3)"
      ],
      "execution_count": 0,
      "outputs": []
    },
    {
      "cell_type": "code",
      "metadata": {
        "id": "3wlz86ercGZU",
        "colab_type": "code",
        "colab": {
          "base_uri": "https://localhost:8080/",
          "height": 34
        },
        "outputId": "06f23e3e-addf-49f4-bb37-146552df03e8"
      },
      "source": [
        "c.volume()"
      ],
      "execution_count": 24,
      "outputs": [
        {
          "output_type": "execute_result",
          "data": {
            "text/plain": [
              "56.52"
            ]
          },
          "metadata": {
            "tags": []
          },
          "execution_count": 24
        }
      ]
    },
    {
      "cell_type": "code",
      "metadata": {
        "id": "qaKT0ny9cImK",
        "colab_type": "code",
        "colab": {
          "base_uri": "https://localhost:8080/",
          "height": 34
        },
        "outputId": "a20786d2-ea49-4856-df4b-72ebce02bf15"
      },
      "source": [
        "c.surface_area()"
      ],
      "execution_count": 25,
      "outputs": [
        {
          "output_type": "execute_result",
          "data": {
            "text/plain": [
              "94.2"
            ]
          },
          "metadata": {
            "tags": []
          },
          "execution_count": 25
        }
      ]
    }
  ]
}