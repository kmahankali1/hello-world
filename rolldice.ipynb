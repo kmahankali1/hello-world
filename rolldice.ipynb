{
  "nbformat": 4,
  "nbformat_minor": 0,
  "metadata": {
    "colab": {
      "name": "rolldice.ipynb",
      "provenance": [],
      "authorship_tag": "ABX9TyNJjeUsvdSwPL5UYgkAZaty",
      "include_colab_link": true
    },
    "kernelspec": {
      "name": "python3",
      "display_name": "Python 3"
    }
  },
  "cells": [
    {
      "cell_type": "markdown",
      "metadata": {
        "id": "view-in-github",
        "colab_type": "text"
      },
      "source": [
        "<a href=\"https://colab.research.google.com/github/kmahankali1/hello-world/blob/master/rolldice.ipynb\" target=\"_parent\"><img src=\"https://colab.research.google.com/assets/colab-badge.svg\" alt=\"Open In Colab\"/></a>"
      ]
    },
    {
      "cell_type": "code",
      "metadata": {
        "id": "d-2aqDTrn6Y0",
        "colab_type": "code",
        "colab": {}
      },
      "source": [
        "def rolldice(ran1):\n",
        "\n",
        "      import random\n",
        "\n",
        "      ran = int(ran1)\n",
        "\n",
        "      start= 1\n",
        "      stop = ran + 1\n",
        "      step = 1\n",
        "\n",
        "      play = \"yes\"\n",
        "      while (play==\"yes\"):\n",
        "          dic = random.randrange(start, ran, 1)  \n",
        "          print(\"You got {}:\".format(str(dic)))\n",
        "          play = input(\"Do you want to play again?\")\n",
        "          if (play != \"yes\"):\n",
        "            print(\"Hope you had fun! Come back again\")\n",
        "            break"
      ],
      "execution_count": 0,
      "outputs": []
    },
    {
      "cell_type": "code",
      "metadata": {
        "id": "qJSf_21jn8T3",
        "colab_type": "code",
        "colab": {}
      },
      "source": [
        "rolldice(6)"
      ],
      "execution_count": 0,
      "outputs": []
    }
  ]
}